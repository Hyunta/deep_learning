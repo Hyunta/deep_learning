{
 "cells": [
  {
   "cell_type": "code",
   "execution_count": 42,
   "id": "c5573c9f",
   "metadata": {},
   "outputs": [],
   "source": [
    "import sys\n",
    "import numpy as np\n",
    "import pandas as pd\n",
    "import matplotlib.pyplot as plt\n",
    "import tensorflow as tf\n",
    "import keras\n",
    "import glob"
   ]
  },
  {
   "cell_type": "code",
   "execution_count": 43,
   "id": "d4c2c6c8",
   "metadata": {},
   "outputs": [
    {
     "data": {
      "text/html": [
       "<div>\n",
       "<style scoped>\n",
       "    .dataframe tbody tr th:only-of-type {\n",
       "        vertical-align: middle;\n",
       "    }\n",
       "\n",
       "    .dataframe tbody tr th {\n",
       "        vertical-align: top;\n",
       "    }\n",
       "\n",
       "    .dataframe thead th {\n",
       "        text-align: right;\n",
       "    }\n",
       "</style>\n",
       "<table border=\"1\" class=\"dataframe\">\n",
       "  <thead>\n",
       "    <tr style=\"text-align: right;\">\n",
       "      <th></th>\n",
       "      <th>Temp</th>\n",
       "    </tr>\n",
       "    <tr>\n",
       "      <th>Date</th>\n",
       "      <th></th>\n",
       "    </tr>\n",
       "  </thead>\n",
       "  <tbody>\n",
       "    <tr>\n",
       "      <th>1981-01-01</th>\n",
       "      <td>20.7</td>\n",
       "    </tr>\n",
       "    <tr>\n",
       "      <th>1981-01-02</th>\n",
       "      <td>17.9</td>\n",
       "    </tr>\n",
       "    <tr>\n",
       "      <th>1981-01-03</th>\n",
       "      <td>18.8</td>\n",
       "    </tr>\n",
       "    <tr>\n",
       "      <th>1981-01-04</th>\n",
       "      <td>14.6</td>\n",
       "    </tr>\n",
       "    <tr>\n",
       "      <th>1981-01-05</th>\n",
       "      <td>15.8</td>\n",
       "    </tr>\n",
       "  </tbody>\n",
       "</table>\n",
       "</div>"
      ],
      "text/plain": [
       "            Temp\n",
       "Date            \n",
       "1981-01-01  20.7\n",
       "1981-01-02  17.9\n",
       "1981-01-03  18.8\n",
       "1981-01-04  14.6\n",
       "1981-01-05  15.8"
      ]
     },
     "execution_count": 43,
     "metadata": {},
     "output_type": "execute_result"
    }
   ],
   "source": [
    "series = pd.read_csv(\"data/daily-min-temperatures.csv\", header=0, index_col=0)\n",
    "series.head()"
   ]
  },
  {
   "cell_type": "code",
   "execution_count": 44,
   "id": "d433657b",
   "metadata": {},
   "outputs": [],
   "source": [
    "values = series.values\n",
    "values = values.reshape((len(values), 1))"
   ]
  },
  {
   "cell_type": "code",
   "execution_count": 45,
   "id": "ac4c0ccb",
   "metadata": {},
   "outputs": [
    {
     "name": "stdout",
     "output_type": "stream",
     "text": [
      "Min: 0.000000, Max: 26.300000\n"
     ]
    }
   ],
   "source": [
    "from sklearn.preprocessing import MinMaxScaler\n",
    "scaler = MinMaxScaler(feature_range=(0,1))\n",
    "scaler = scaler.fit(values)\n",
    "print('Min: %f, Max: %f' % (scaler.data_min_, scaler.data_max_))\n"
   ]
  },
  {
   "cell_type": "code",
   "execution_count": 46,
   "id": "b7ebe1d3",
   "metadata": {},
   "outputs": [
    {
     "name": "stdout",
     "output_type": "stream",
     "text": [
      "i = 0\n",
      "normalized = [0.78707224]\n",
      "inversed = [20.7]\n",
      "============================================================\n",
      "i = 1\n",
      "normalized = [0.68060837]\n",
      "inversed = [17.9]\n",
      "============================================================\n",
      "i = 2\n",
      "normalized = [0.7148289]\n",
      "inversed = [18.8]\n",
      "============================================================\n",
      "i = 3\n",
      "normalized = [0.55513308]\n",
      "inversed = [14.6]\n",
      "============================================================\n",
      "i = 4\n",
      "normalized = [0.60076046]\n",
      "inversed = [15.8]\n",
      "============================================================\n"
     ]
    }
   ],
   "source": [
    "normalized = scaler.transform(values)\n",
    "inversed = scaler.inverse_transform(normalized)\n",
    "for i in range(5):\n",
    "    print(\"i =\", i)\n",
    "    print(\"normalized =\", normalized[i])\n",
    "    print(\"inversed =\", inversed[i])\n",
    "    print(\"======\" * 10)"
   ]
  },
  {
   "cell_type": "code",
   "execution_count": 47,
   "id": "543cf0a4",
   "metadata": {},
   "outputs": [
    {
     "data": {
      "text/plain": [
       "array([[<AxesSubplot:title={'center':'Temp'}>]], dtype=object)"
      ]
     },
     "execution_count": 47,
     "metadata": {},
     "output_type": "execute_result"
    },
    {
     "data": {
      "image/png": "[encoded data removed]",
      "text/plain": [
       "<Figure size 432x288 with 1 Axes>"
      ]
     },
     "metadata": {
      "needs_background": "light"
     },
     "output_type": "display_data"
    }
   ],
   "source": [
    "series.hist()"
   ]
  },
  {
   "cell_type": "code",
   "execution_count": 48,
   "id": "206d38be",
   "metadata": {},
   "outputs": [],
   "source": [
    "values = series.values\n",
    "values = values.reshape((len(values), 1))"
   ]
  },
  {
   "cell_type": "code",
   "execution_count": 49,
   "id": "b8dfdb1c",
   "metadata": {},
   "outputs": [
    {
     "name": "stdout",
     "output_type": "stream",
     "text": [
      "Mean: 11.177753, StandardDeviation: 4.071279\n",
      "i = 0\n",
      "normalized = [0.78707224]\n",
      "standardized = [2.33888328]\n",
      "inversed = [14.38214418]\n",
      "============================================================\n",
      "i = 1\n",
      "normalized = [0.68060837]\n",
      "standardized = [1.65113873]\n",
      "inversed = [13.94870002]\n",
      "============================================================\n",
      "i = 2\n",
      "normalized = [0.7148289]\n",
      "standardized = [1.87219948]\n",
      "inversed = [14.08802136]\n",
      "============================================================\n",
      "i = 3\n",
      "normalized = [0.55513308]\n",
      "standardized = [0.84058266]\n",
      "inversed = [13.43785512]\n",
      "============================================================\n",
      "i = 4\n",
      "normalized = [0.60076046]\n",
      "standardized = [1.13533032]\n",
      "inversed = [13.6236169]\n",
      "============================================================\n"
     ]
    }
   ],
   "source": [
    "from sklearn.preprocessing import StandardScaler\n",
    "from math import sqrt\n",
    "\n",
    "scaler = StandardScaler()\n",
    "scaler = scaler.fit(values)\n",
    "print('Mean: %f, StandardDeviation: %f' %(scaler.mean_, sqrt(scaler.var_)))\n",
    "standardized = scaler.transform(values)\n",
    "inversed = scaler.inverse_transform(normalized)\n",
    "for i in range(5):\n",
    "    print(\"i =\", i)\n",
    "    print(\"normalized =\", normalized[i])\n",
    "    print(\"standardized =\", standardized[i])\n",
    "    print(\"inversed =\", inversed[i])\n",
    "    print(\"======\" * 10)"
   ]
  },
  {
   "cell_type": "markdown",
   "id": "63d88820",
   "metadata": {},
   "source": [
    "- That some machine learning algorithms perform better or even require rescaled data when modeling.\n",
    "- How to manually calculate the parameters required for normalization and standardization.\n",
    "- How to normalize and standardize time series data using scikit-learn in Python."
   ]
  }
 ],
 "metadata": {
  "kernelspec": {
   "display_name": "Python 3 (ipykernel)",
   "language": "python",
   "name": "python3"
  },
  "language_info": {
   "codemirror_mode": {
    "name": "ipython",
    "version": 3
   },
   "file_extension": ".py",
   "mimetype": "text/x-python",
   "name": "python",
   "nbconvert_exporter": "python",
   "pygments_lexer": "ipython3",
   "version": "3.8.12"
  }
 },
 "nbformat": 4,
 "nbformat_minor": 5
}
