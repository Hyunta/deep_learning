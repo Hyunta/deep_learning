{
 "cells": [
  {
   "cell_type": "code",
   "execution_count": 1,
   "id": "47b2590f",
   "metadata": {},
   "outputs": [
    {
     "data": {
      "text/plain": [
       "'2.4.0'"
      ]
     },
     "execution_count": 1,
     "metadata": {},
     "output_type": "execute_result"
    }
   ],
   "source": [
    "from tensorflow import keras\n",
    "keras.__version__"
   ]
  },
  {
   "cell_type": "code",
   "execution_count": 2,
   "id": "4efe1d4d",
   "metadata": {},
   "outputs": [
    {
     "name": "stdout",
     "output_type": "stream",
     "text": [
      "Downloading data from https://storage.googleapis.com/tensorflow/keras-applications/vgg16/vgg16_weights_tf_dim_ordering_tf_kernels_notop.h5\n",
      "58892288/58889256 [==============================] - ETA:  - 8s 0us/step\n"
     ]
    }
   ],
   "source": [
    "from tensorflow.keras.applications import VGG16\n",
    "\n",
    "conv_base = VGG16(weights='imagenet',\n",
    "                  include_top=False,\n",
    "                  input_shape=(150, 150, 3))"
   ]
  },
  {
   "cell_type": "code",
   "execution_count": 3,
   "id": "d679e8c8",
   "metadata": {},
   "outputs": [
    {
     "name": "stdout",
     "output_type": "stream",
     "text": [
      "Model: \"vgg16\"\n",
      "_________________________________________________________________\n",
      "Layer (type)                 Output Shape              Param #   \n",
      "=================================================================\n",
      "input_1 (InputLayer)         [(None, 150, 150, 3)]     0         \n",
      "_________________________________________________________________\n",
      "block1_conv1 (Conv2D)        (None, 150, 150, 64)      1792      \n",
      "_________________________________________________________________\n",
      "block1_conv2 (Conv2D)        (None, 150, 150, 64)      36928     \n",
      "_________________________________________________________________\n",
      "block1_pool (MaxPooling2D)   (None, 75, 75, 64)        0         \n",
      "_________________________________________________________________\n",
      "block2_conv1 (Conv2D)        (None, 75, 75, 128)       73856     \n",
      "_________________________________________________________________\n",
      "block2_conv2 (Conv2D)        (None, 75, 75, 128)       147584    \n",
      "_________________________________________________________________\n",
      "block2_pool (MaxPooling2D)   (None, 37, 37, 128)       0         \n",
      "_________________________________________________________________\n",
      "block3_conv1 (Conv2D)        (None, 37, 37, 256)       295168    \n",
      "_________________________________________________________________\n",
      "block3_conv2 (Conv2D)        (None, 37, 37, 256)       590080    \n",
      "_________________________________________________________________\n",
      "block3_conv3 (Conv2D)        (None, 37, 37, 256)       590080    \n",
      "_________________________________________________________________\n",
      "block3_pool (MaxPooling2D)   (None, 18, 18, 256)       0         \n",
      "_________________________________________________________________\n",
      "block4_conv1 (Conv2D)        (None, 18, 18, 512)       1180160   \n",
      "_________________________________________________________________\n",
      "block4_conv2 (Conv2D)        (None, 18, 18, 512)       2359808   \n",
      "_________________________________________________________________\n",
      "block4_conv3 (Conv2D)        (None, 18, 18, 512)       2359808   \n",
      "_________________________________________________________________\n",
      "block4_pool (MaxPooling2D)   (None, 9, 9, 512)         0         \n",
      "_________________________________________________________________\n",
      "block5_conv1 (Conv2D)        (None, 9, 9, 512)         2359808   \n",
      "_________________________________________________________________\n",
      "block5_conv2 (Conv2D)        (None, 9, 9, 512)         2359808   \n",
      "_________________________________________________________________\n",
      "block5_conv3 (Conv2D)        (None, 9, 9, 512)         2359808   \n",
      "_________________________________________________________________\n",
      "block5_pool (MaxPooling2D)   (None, 4, 4, 512)         0         \n",
      "=================================================================\n",
      "Total params: 14,714,688\n",
      "Trainable params: 14,714,688\n",
      "Non-trainable params: 0\n",
      "_________________________________________________________________\n"
     ]
    }
   ],
   "source": [
    "conv_base.summary()"
   ]
  },
  {
   "cell_type": "code",
   "execution_count": 4,
   "id": "ebc1ad02",
   "metadata": {},
   "outputs": [
    {
     "name": "stdout",
     "output_type": "stream",
     "text": [
      "Found 2000 images belonging to 2 classes.\n",
      "Found 1000 images belonging to 2 classes.\n",
      "Found 1000 images belonging to 2 classes.\n"
     ]
    }
   ],
   "source": [
    "import os\n",
    "import numpy as np\n",
    "from tensorflow.keras.preprocessing.image import ImageDataGenerator\n",
    "\n",
    "base_dir = 'datasets/cats_and_dogs_small'\n",
    "\n",
    "train_dir = os.path.join(base_dir, 'train')\n",
    "validation_dir = os.path.join(base_dir, 'validation')\n",
    "test_dir = os.path.join(base_dir, 'test')\n",
    "\n",
    "datagen = ImageDataGenerator(rescale=1./255)\n",
    "batch_size = 20\n",
    "\n",
    "def extract_features(directory, sample_count):\n",
    "    features = np.zeros(shape=(sample_count, 4, 4, 512))\n",
    "    labels = np.zeros(shape=(sample_count))\n",
    "    generator = datagen.flow_from_directory(\n",
    "        directory,\n",
    "        target_size=(150, 150),\n",
    "        batch_size=batch_size,\n",
    "        class_mode='binary')\n",
    "    i = 0\n",
    "    for inputs_batch, labels_batch in generator:\n",
    "        features_batch = conv_base.predict(inputs_batch)\n",
    "        features[i * batch_size : (i + 1) * batch_size] = features_batch\n",
    "        labels[i * batch_size : (i + 1) * batch_size] = labels_batch\n",
    "        i += 1\n",
    "        if i * batch_size >= sample_count:\n",
    "            # 제너레이터는 루프 안에서 무한하게 데이터를 만들어내므로 모든 이미지를 한 번씩 처리하고 나면 중지합니다\n",
    "            break\n",
    "    return features, labels\n",
    "\n",
    "train_features, train_labels = extract_features(train_dir, 2000)\n",
    "validation_features, validation_labels = extract_features(validation_dir, 1000)\n",
    "test_features, test_labels = extract_features(test_dir, 1000)"
   ]
  },
  {
   "cell_type": "code",
   "execution_count": 5,
   "id": "1797d2d5",
   "metadata": {},
   "outputs": [],
   "source": [
    "train_features = np.reshape(train_features, (2000, 4 * 4 * 512))\n",
    "validation_features = np.reshape(validation_features, (1000, 4 * 4 * 512))\n",
    "test_features = np.reshape(test_features, (1000, 4 * 4 * 512))"
   ]
  },
  {
   "cell_type": "code",
   "execution_count": 6,
   "id": "f8b17749",
   "metadata": {},
   "outputs": [
    {
     "name": "stdout",
     "output_type": "stream",
     "text": [
      "Epoch 1/30\n",
      "100/100 [==============================] - 2s 25ms/step - loss: 0.6007 - accuracy: 0.6705 - val_loss: 0.4365 - val_accuracy: 0.8380\n",
      "Epoch 2/30\n",
      "100/100 [==============================] - 2s 23ms/step - loss: 0.4356 - accuracy: 0.8020 - val_loss: 0.3649 - val_accuracy: 0.8620\n",
      "Epoch 3/30\n",
      "100/100 [==============================] - 2s 23ms/step - loss: 0.3689 - accuracy: 0.8460 - val_loss: 0.3235 - val_accuracy: 0.8830\n",
      "Epoch 4/30\n",
      "100/100 [==============================] - 2s 23ms/step - loss: 0.3237 - accuracy: 0.8670 - val_loss: 0.2999 - val_accuracy: 0.8860\n",
      "Epoch 5/30\n",
      "100/100 [==============================] - 2s 23ms/step - loss: 0.2944 - accuracy: 0.8800 - val_loss: 0.2828 - val_accuracy: 0.8920\n",
      "Epoch 6/30\n",
      "100/100 [==============================] - 2s 23ms/step - loss: 0.2619 - accuracy: 0.8970 - val_loss: 0.2721 - val_accuracy: 0.8940\n",
      "Epoch 7/30\n",
      "100/100 [==============================] - 2s 23ms/step - loss: 0.2526 - accuracy: 0.9025 - val_loss: 0.2656 - val_accuracy: 0.8970\n",
      "Epoch 8/30\n",
      "100/100 [==============================] - 2s 23ms/step - loss: 0.2407 - accuracy: 0.9085 - val_loss: 0.2600 - val_accuracy: 0.9020\n",
      "Epoch 9/30\n",
      "100/100 [==============================] - 2s 23ms/step - loss: 0.2293 - accuracy: 0.9135 - val_loss: 0.2544 - val_accuracy: 0.8960\n",
      "Epoch 10/30\n",
      "100/100 [==============================] - 2s 23ms/step - loss: 0.2193 - accuracy: 0.9170 - val_loss: 0.2471 - val_accuracy: 0.9080\n",
      "Epoch 11/30\n",
      "100/100 [==============================] - 2s 23ms/step - loss: 0.2052 - accuracy: 0.9240 - val_loss: 0.2451 - val_accuracy: 0.9080\n",
      "Epoch 12/30\n",
      "100/100 [==============================] - 2s 23ms/step - loss: 0.1930 - accuracy: 0.9275 - val_loss: 0.2427 - val_accuracy: 0.9030\n",
      "Epoch 13/30\n",
      "100/100 [==============================] - 2s 23ms/step - loss: 0.1895 - accuracy: 0.9335 - val_loss: 0.2400 - val_accuracy: 0.9050\n",
      "Epoch 14/30\n",
      "100/100 [==============================] - 2s 23ms/step - loss: 0.1675 - accuracy: 0.9430 - val_loss: 0.2388 - val_accuracy: 0.9040\n",
      "Epoch 15/30\n",
      "100/100 [==============================] - 2s 23ms/step - loss: 0.1679 - accuracy: 0.9375 - val_loss: 0.2368 - val_accuracy: 0.9080\n",
      "Epoch 16/30\n",
      "100/100 [==============================] - 2s 23ms/step - loss: 0.1619 - accuracy: 0.9435 - val_loss: 0.2348 - val_accuracy: 0.9070\n",
      "Epoch 17/30\n",
      "100/100 [==============================] - 2s 24ms/step - loss: 0.1501 - accuracy: 0.9490 - val_loss: 0.2383 - val_accuracy: 0.9010\n",
      "Epoch 18/30\n",
      "100/100 [==============================] - 2s 23ms/step - loss: 0.1437 - accuracy: 0.9500 - val_loss: 0.2373 - val_accuracy: 0.9030\n",
      "Epoch 19/30\n",
      "100/100 [==============================] - 2s 23ms/step - loss: 0.1442 - accuracy: 0.9505 - val_loss: 0.2375 - val_accuracy: 0.9050\n",
      "Epoch 20/30\n",
      "100/100 [==============================] - 2s 23ms/step - loss: 0.1352 - accuracy: 0.9530 - val_loss: 0.2335 - val_accuracy: 0.9070\n",
      "Epoch 21/30\n",
      "100/100 [==============================] - 2s 23ms/step - loss: 0.1308 - accuracy: 0.9520 - val_loss: 0.2440 - val_accuracy: 0.8990\n",
      "Epoch 22/30\n",
      "100/100 [==============================] - 2s 23ms/step - loss: 0.1265 - accuracy: 0.9550 - val_loss: 0.2332 - val_accuracy: 0.9030\n",
      "Epoch 23/30\n",
      "100/100 [==============================] - 2s 23ms/step - loss: 0.1206 - accuracy: 0.9600 - val_loss: 0.2481 - val_accuracy: 0.8960\n",
      "Epoch 24/30\n",
      "100/100 [==============================] - 2s 23ms/step - loss: 0.1163 - accuracy: 0.9615 - val_loss: 0.2469 - val_accuracy: 0.8980\n",
      "Epoch 25/30\n",
      "100/100 [==============================] - 2s 23ms/step - loss: 0.1101 - accuracy: 0.9655 - val_loss: 0.2323 - val_accuracy: 0.9080\n",
      "Epoch 26/30\n",
      "100/100 [==============================] - 2s 24ms/step - loss: 0.1045 - accuracy: 0.9655 - val_loss: 0.2334 - val_accuracy: 0.9050\n",
      "Epoch 27/30\n",
      "100/100 [==============================] - 2s 23ms/step - loss: 0.1045 - accuracy: 0.9655 - val_loss: 0.2367 - val_accuracy: 0.9050\n",
      "Epoch 28/30\n",
      "100/100 [==============================] - 2s 23ms/step - loss: 0.0987 - accuracy: 0.9680 - val_loss: 0.2389 - val_accuracy: 0.9040\n",
      "Epoch 29/30\n",
      "100/100 [==============================] - 2s 23ms/step - loss: 0.0955 - accuracy: 0.9700 - val_loss: 0.2362 - val_accuracy: 0.9050\n",
      "Epoch 30/30\n",
      "100/100 [==============================] - 2s 23ms/step - loss: 0.0908 - accuracy: 0.9705 - val_loss: 0.2378 - val_accuracy: 0.9060\n"
     ]
    }
   ],
   "source": [
    "from tensorflow.keras import models\n",
    "from tensorflow.keras import layers\n",
    "from tensorflow.keras import optimizers\n",
    "\n",
    "model = models.Sequential()\n",
    "model.add(layers.Dense(256, activation='relu', input_dim=4 * 4 * 512))\n",
    "model.add(layers.Dropout(0.5))\n",
    "model.add(layers.Dense(1, activation='sigmoid'))\n",
    "\n",
    "model.compile(optimizer=optimizers.RMSprop(lr=2e-5),\n",
    "              loss='binary_crossentropy',\n",
    "              metrics=['accuracy'])\n",
    "\n",
    "history = model.fit(train_features, train_labels,\n",
    "                    epochs=30,\n",
    "                    batch_size=20,\n",
    "                    validation_data=(validation_features, validation_labels))"
   ]
  },
  {
   "cell_type": "code",
   "execution_count": 7,
   "id": "8a37d3fc",
   "metadata": {},
   "outputs": [],
   "source": [
    "import matplotlib.pyplot as plt"
   ]
  },
  {
   "cell_type": "code",
   "execution_count": 8,
   "id": "764c508c",
   "metadata": {},
   "outputs": [
    {
     "data": {
      "image/png": "[encoded data removed]",
      "text/plain": [
       "<Figure size 432x288 with 1 Axes>"
      ]
     },
     "metadata": {
      "needs_background": "light"
     },
     "output_type": "display_data"
    },
    {
     "data": {
      "image/png": "[encoded data removed]",
      "text/plain": [
       "<Figure size 432x288 with 1 Axes>"
      ]
     },
     "metadata": {
      "needs_background": "light"
     },
     "output_type": "display_data"
    }
   ],
   "source": [
    "acc = history.history['accuracy']\n",
    "val_acc = history.history['val_accuracy']\n",
    "loss = history.history['loss']\n",
    "val_loss = history.history['val_loss']\n",
    "\n",
    "epochs = range(len(acc))\n",
    "\n",
    "plt.plot(epochs, acc, 'bo', label='Training acc')\n",
    "plt.plot(epochs, val_acc, 'b', label='Validation acc')\n",
    "plt.title('Training and validation accuracy')\n",
    "plt.legend()\n",
    "\n",
    "plt.figure()\n",
    "\n",
    "plt.plot(epochs, loss, 'bo', label='Training loss')\n",
    "plt.plot(epochs, val_loss, 'b', label='Validation loss')\n",
    "plt.title('Training and validation loss')\n",
    "plt.legend()\n",
    "\n",
    "plt.show()"
   ]
  },
  {
   "cell_type": "code",
   "execution_count": null,
   "id": "97b365fb",
   "metadata": {},
   "outputs": [],
   "source": []
  }
 ],
 "metadata": {
  "kernelspec": {
   "display_name": "Python 3 (ipykernel)",
   "language": "python",
   "name": "python3"
  },
  "language_info": {
   "codemirror_mode": {
    "name": "ipython",
    "version": 3
   },
   "file_extension": ".py",
   "mimetype": "text/x-python",
   "name": "python",
   "nbconvert_exporter": "python",
   "pygments_lexer": "ipython3",
   "version": "3.8.12"
  }
 },
 "nbformat": 4,
 "nbformat_minor": 5
}
